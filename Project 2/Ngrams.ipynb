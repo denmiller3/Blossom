{
 "cells": [
  {
   "cell_type": "code",
   "execution_count": 1,
   "metadata": {},
   "outputs": [],
   "source": [
    "import pyspark\n",
    "import boto3\n",
    "\n",
    "from pyspark.sql.functions import udf, col\n",
    "from pyspark.sql import functions as F\n",
    "from pyspark.sql import SparkSession\n",
    "from pyspark.sql import Window\n",
    "from pyspark.sql.types import IntegerType\n"
   ]
  },
  {
   "cell_type": "code",
   "execution_count": null,
   "metadata": {},
   "outputs": [],
   "source": [
    "#Download files from s3 blossom-data-engs bucket\n",
    "s3_client = boto3.client('s3')\n",
    "s3_client.download_file('blossom-data-engs','all-us-stocks-tickers-company-info-logos.zip', 'us-stocks.zip')\n",
    "s3_client.download_file('blossom-data-engs','data-scientist-job-market-in-the-us.zip', 'data-scentist.zip')"
   ]
  },
  {
   "cell_type": "code",
   "execution_count": 2,
   "metadata": {},
   "outputs": [],
   "source": [
    "#Load csv files into company and alldata frames\n",
    "spark = SparkSession.builder.getOrCreate()\n",
    "companies = spark.read.csv(\n",
    "            \"companies.csv\", \n",
    "            header=True, inferSchema=True)\n",
    "\n",
    "alldata = spark.read.csv( \"alldata.csv\", \n",
    "            header=True, inferSchema=True)"
   ]
  },
  {
   "cell_type": "code",
   "execution_count": 3,
   "metadata": {},
   "outputs": [
    {
     "name": "stdout",
     "output_type": "stream",
     "text": [
      "+--------------------+\n",
      "|            location|\n",
      "+--------------------+\n",
      "|                null|\n",
      "|                 GA.|\n",
      "|                null|\n",
      "|            database|\n",
      "|                null|\n",
      "| has served as on...|\n",
      "|                null|\n",
      "|                null|\n",
      "|                null|\n",
      "|                null|\n",
      "|                null|\n",
      "|                null|\n",
      "| has an open posi...|\n",
      "|                null|\n",
      "|                null|\n",
      "|                null|\n",
      "|                null|\n",
      "|                null|\n",
      "|                null|\n",
      "|                null|\n",
      "+--------------------+\n",
      "only showing top 20 rows\n",
      "\n"
     ]
    }
   ],
   "source": [
    "#Check to see if location column in dataframe loads fine\n",
    "alldata.select('location').show()"
   ]
  },
  {
   "cell_type": "code",
   "execution_count": 48,
   "metadata": {
    "scrolled": true
   },
   "outputs": [],
   "source": [
    "companies.count()\n",
    "companies.columns\n",
    "alldata.columns\n",
    "#Rename description column in campanies to des\n",
    "companies = companies.withColumnRenamed('description', 'description2')\n",
    "companies = companies.filter(companies.description2.isNotNull())\n",
    "alldata = alldata.filter(alldata.description.isNotNull())\n"
   ]
  },
  {
   "cell_type": "code",
   "execution_count": 49,
   "metadata": {},
   "outputs": [
    {
     "name": "stdout",
     "output_type": "stream",
     "text": [
      "+--------------------+\n",
      "|            location|\n",
      "+--------------------+\n",
      "|                null|\n",
      "|                 GA.|\n",
      "|            database|\n",
      "| has served as on...|\n",
      "|                null|\n",
      "|                null|\n",
      "| has an open posi...|\n",
      "|                null|\n",
      "| or other quantit...|\n",
      "| Algorithms/Incor...|\n",
      "|                null|\n",
      "|                null|\n",
      "| regulatory and p...|\n",
      "|                null|\n",
      "|                null|\n",
      "|                null|\n",
      "|                null|\n",
      "|                null|\n",
      "| impactful solutions|\n",
      "|                null|\n",
      "+--------------------+\n",
      "only showing top 20 rows\n",
      "\n"
     ]
    }
   ],
   "source": [
    "alldata.select('location').show()"
   ]
  },
  {
   "cell_type": "code",
   "execution_count": 50,
   "metadata": {},
   "outputs": [],
   "source": [
    "#Join the two data set and assign to inner_join dataframe\n",
    "inner_join = companies.join(alldata, companies['company name'] == alldata.company)"
   ]
  },
  {
   "cell_type": "code",
   "execution_count": 51,
   "metadata": {
    "scrolled": true
   },
   "outputs": [
    {
     "name": "stdout",
     "output_type": "stream",
     "text": [
      "+--------------------+---------------+--------------------+--------------------+--------------------+--------------------+\n",
      "|            position|        company|            location|              ticker|            industry|         description|\n",
      "+--------------------+---------------+--------------------+--------------------+--------------------+--------------------+\n",
      "|Experience follow...|         design|                null| The fund general...|http://www.invesc...|                code|\n",
      "|Facilitates the d...|    development|                null| The fund general...| sale or distribu...| and planning of ...|\n",
      "|Facilitates the d...|    development|                null| The fund general...| services and pro...| and planning of ...|\n",
      "|              Travel| transportation|                null| The Shares are i...| they provide inv...| and moving expen...|\n",
      "|Apply health scie...|    development| and risk factors...| The fund general...| sale or distribu...| and conduct of s...|\n",
      "|Apply health scie...|    development| and risk factors...| The fund general...| services and pro...| and conduct of s...|\n",
      "|              Travel| transportation|                null| The Shares are i...| they provide inv...| and moving expen...|\n",
      "|              Travel| transportation|                null| The Shares are i...| they provide inv...| and moving expen...|\n",
      "|he Enterprise Dat...|         design| implement and/or...| The fund general...|http://www.invesc...|               build|\n",
      "|              Travel| transportation|                null| The Shares are i...| they provide inv...| and moving expen...|\n",
      "|Support the Archi...|    development| and deployment o...| The fund general...| sale or distribu...|            building|\n",
      "|Support the Archi...|    development| and deployment o...| The fund general...| services and pro...|            building|\n",
      "|            Identify|         design| re-designing cod...| The fund general...|http://www.invesc...| and implement in...|\n",
      "|            Identify|         design| re-designing inf...| The fund general...|http://www.invesc...| and implement in...|\n",
      "|Primary responsib...|         design|        publications| The fund general...|http://www.invesc...| and analysis of ...|\n",
      "|       Conceptualize|         design|                null| The fund general...|http://www.invesc...| and manage resea...|\n",
      "|Golder Associates...|         mining| and water sector...| The fund invests...| http://www.ise.com/|               power|\n",
      "|Participate on pr...|    development|                null| The fund general...| sale or distribu...| and implementati...|\n",
      "|Participate on pr...|    development|                null| The fund general...| services and pro...| and implementati...|\n",
      "|Healthy Community...| transportation| and Use public t...| The Shares are i...| they provide inv...| and land-use pro...|\n",
      "+--------------------+---------------+--------------------+--------------------+--------------------+--------------------+\n",
      "only showing top 20 rows\n",
      "\n"
     ]
    }
   ],
   "source": [
    "inner_join.select('position', 'company','location','ticker', 'industry', 'description').show()"
   ]
  },
  {
   "cell_type": "code",
   "execution_count": 52,
   "metadata": {},
   "outputs": [],
   "source": [
    "from pyspark.ml.feature import NGram, Tokenizer\n",
    "\n",
    "#creaet an Ngram function to generate from description\n",
    "def ngram_func(num, job):\n",
    "    tokens = Tokenizer(inputCol='description', outputCol='tokens')\n",
    "    jobs = tokens.transform(job)\n",
    "    nums = NGram(n= num, inputCol='tokens', outputCol=\"ngram\")\n",
    "    jobs = nums.transform(jobs)\n",
    "    return jobs"
   ]
  },
  {
   "cell_type": "code",
   "execution_count": 53,
   "metadata": {},
   "outputs": [],
   "source": [
    "#Create a Bigram with the joint data set an assign to job1 dataframe\n",
    "job1 = ngram_func(2, inner_join)"
   ]
  },
  {
   "cell_type": "code",
   "execution_count": 74,
   "metadata": {},
   "outputs": [],
   "source": [
    "#create a unigram \n",
    "job2 = ngram_func(1, inner_join)"
   ]
  },
  {
   "cell_type": "code",
   "execution_count": 54,
   "metadata": {
    "scrolled": true
   },
   "outputs": [
    {
     "data": {
      "text/plain": [
       "['ticker',\n",
       " 'company name',\n",
       " 'short name',\n",
       " 'industry',\n",
       " 'description2',\n",
       " 'website',\n",
       " 'logo',\n",
       " 'ceo',\n",
       " 'exchange',\n",
       " 'market cap',\n",
       " 'sector',\n",
       " 'tag 1',\n",
       " 'tag 2',\n",
       " 'tag 3',\n",
       " 'position',\n",
       " 'company',\n",
       " 'description',\n",
       " 'reviews',\n",
       " 'location',\n",
       " 'tokens',\n",
       " 'ngram']"
      ]
     },
     "execution_count": 54,
     "metadata": {},
     "output_type": "execute_result"
    }
   ],
   "source": [
    "job1.columns"
   ]
  },
  {
   "cell_type": "code",
   "execution_count": 55,
   "metadata": {},
   "outputs": [
    {
     "name": "stdout",
     "output_type": "stream",
     "text": [
      "+--------------------+\n",
      "|            location|\n",
      "+--------------------+\n",
      "|                null|\n",
      "|                null|\n",
      "|                null|\n",
      "|                null|\n",
      "| and risk factors...|\n",
      "| and risk factors...|\n",
      "|                null|\n",
      "|                null|\n",
      "| implement and/or...|\n",
      "|                null|\n",
      "| and deployment o...|\n",
      "| and deployment o...|\n",
      "| re-designing cod...|\n",
      "| re-designing inf...|\n",
      "|        publications|\n",
      "|                null|\n",
      "| and water sector...|\n",
      "|                null|\n",
      "|                null|\n",
      "| and Use public t...|\n",
      "+--------------------+\n",
      "only showing top 20 rows\n",
      "\n"
     ]
    }
   ],
   "source": [
    "job1.select('location').show()"
   ]
  },
  {
   "cell_type": "code",
   "execution_count": 56,
   "metadata": {},
   "outputs": [
    {
     "name": "stdout",
     "output_type": "stream",
     "text": [
      "+--------------------+\n",
      "|               ngram|\n",
      "+--------------------+\n",
      "|             [ code]|\n",
      "|[ and, and planni...|\n",
      "|[ and, and planni...|\n",
      "|[ and, and moving...|\n",
      "|[ and, and conduc...|\n",
      "|[ and, and conduc...|\n",
      "|[ and, and moving...|\n",
      "|[ and, and moving...|\n",
      "|            [ build]|\n",
      "|[ and, and moving...|\n",
      "|         [ building]|\n",
      "|         [ building]|\n",
      "|[ and, and implem...|\n",
      "|[ and, and implem...|\n",
      "|[ and, and analys...|\n",
      "|[ and, and manage...|\n",
      "|            [ power]|\n",
      "|[ and, and implem...|\n",
      "|[ and, and implem...|\n",
      "|[ and, and land-u...|\n",
      "+--------------------+\n",
      "only showing top 20 rows\n",
      "\n"
     ]
    }
   ],
   "source": [
    "job1.select('ngram').show()"
   ]
  },
  {
   "cell_type": "code",
   "execution_count": 57,
   "metadata": {},
   "outputs": [],
   "source": [
    "#Create  a split on the the location column and append with an alias called city and assign to new_jobs dataframe\n",
    "new_jobs = job1.select(\n",
    "    'industry', 'ngram','location', F.split(job1['location'], ',')[0].alias('city'))"
   ]
  },
  {
   "cell_type": "code",
   "execution_count": 75,
   "metadata": {},
   "outputs": [],
   "source": [
    "new_jobs2 = job2.select(\n",
    "    'industry', 'ngram','location', F.split(job2['location'], ',')[0].alias('city'))"
   ]
  },
  {
   "cell_type": "code",
   "execution_count": 58,
   "metadata": {
    "scrolled": false
   },
   "outputs": [
    {
     "name": "stdout",
     "output_type": "stream",
     "text": [
      "+--------------------+--------------------+--------------------+--------------------+\n",
      "|            industry|               ngram|            location|                city|\n",
      "+--------------------+--------------------+--------------------+--------------------+\n",
      "|http://www.invesc...|             [ code]|                null|                null|\n",
      "| sale or distribu...|[ and, and planni...|                null|                null|\n",
      "| services and pro...|[ and, and planni...|                null|                null|\n",
      "| they provide inv...|[ and, and moving...|                null|                null|\n",
      "| sale or distribu...|[ and, and conduc...| and risk factors...| and risk factors...|\n",
      "| services and pro...|[ and, and conduc...| and risk factors...| and risk factors...|\n",
      "| they provide inv...|[ and, and moving...|                null|                null|\n",
      "| they provide inv...|[ and, and moving...|                null|                null|\n",
      "|http://www.invesc...|            [ build]| implement and/or...| implement and/or...|\n",
      "| they provide inv...|[ and, and moving...|                null|                null|\n",
      "| sale or distribu...|         [ building]| and deployment o...| and deployment o...|\n",
      "| services and pro...|         [ building]| and deployment o...| and deployment o...|\n",
      "|http://www.invesc...|[ and, and implem...| re-designing cod...| re-designing cod...|\n",
      "|http://www.invesc...|[ and, and implem...| re-designing inf...| re-designing inf...|\n",
      "|http://www.invesc...|[ and, and analys...|        publications|        publications|\n",
      "|http://www.invesc...|[ and, and manage...|                null|                null|\n",
      "| http://www.ise.com/|            [ power]| and water sector...| and water sector...|\n",
      "| sale or distribu...|[ and, and implem...|                null|                null|\n",
      "| services and pro...|[ and, and implem...|                null|                null|\n",
      "| they provide inv...|[ and, and land-u...| and Use public t...| and Use public t...|\n",
      "+--------------------+--------------------+--------------------+--------------------+\n",
      "only showing top 20 rows\n",
      "\n"
     ]
    }
   ],
   "source": [
    "new_jobs.show()"
   ]
  },
  {
   "cell_type": "code",
   "execution_count": 62,
   "metadata": {},
   "outputs": [],
   "source": [
    "#Create a function to reuse the Ngram DataFrame\n",
    "def data_frequency(input_job, input_col):\n",
    "    q= input_job.select(input_col, F.explode('ngram').alias('ngram')).groupby([ 'ngram', input_col]).count()\n",
    "    q = q.withColumnRenamed('count', 'frequency')\n",
    "    q.orderBy(q.frequency.desc())\n",
    "    return q\n",
    "    \n",
    "    "
   ]
  },
  {
   "cell_type": "code",
   "execution_count": 63,
   "metadata": {},
   "outputs": [],
   "source": [
    "#Pass new_jobs dataframe  and city column \n",
    "dt1= data_frequency(new_jobs, 'city')\n"
   ]
  },
  {
   "cell_type": "code",
   "execution_count": 64,
   "metadata": {
    "scrolled": true
   },
   "outputs": [
    {
     "name": "stdout",
     "output_type": "stream",
     "text": [
      "+--------------------+--------------------+---------+\n",
      "|               ngram|                city|frequency|\n",
      "+--------------------+--------------------+---------+\n",
      "|         relating to|                null|        1|\n",
      "|philadelphia; us-...|                null|        1|\n",
      "|     montpelier; us-|                null|        1|\n",
      "|           access to|                null|        1|\n",
      "|                 air|                null|        1|\n",
      "|   qualifications in|                null|        1|\n",
      "|       candidate who|                null|        1|\n",
      "|   broader technical|                null|        1|\n",
      "|       landscape for|           Cambridge|        1|\n",
      "|markets.position ...|           Cambridge|        1|\n",
      "|optimization, rec...|           Cambridge|        1|\n",
      "|             glp and|           Cambridge|        1|\n",
      "|    in microbiology,|           Cambridge|        1|\n",
      "|     good laboratory|           Cambridge|        1|\n",
      "|            in early| target expressio...|        2|\n",
      "|         for quality|                null|        1|\n",
      "|           pfizer to|                null|        3|\n",
      "|    targeted protein|                null|        1|\n",
      "|         (lead ctom)|                null|        1|\n",
      "|    characterization| customer specifi...|        1|\n",
      "+--------------------+--------------------+---------+\n",
      "only showing top 20 rows\n",
      "\n"
     ]
    }
   ],
   "source": [
    "dt.show()"
   ]
  },
  {
   "cell_type": "code",
   "execution_count": 65,
   "metadata": {},
   "outputs": [],
   "source": [
    "#pass industry dataframe\n",
    "dt2= data_frequency(new_jobs, 'industry')"
   ]
  },
  {
   "cell_type": "code",
   "execution_count": 66,
   "metadata": {},
   "outputs": [
    {
     "name": "stdout",
     "output_type": "stream",
     "text": [
      "+--------------------+--------------------+---------+\n",
      "|               ngram|            industry|frequency|\n",
      "+--------------------+--------------------+---------+\n",
      "|implementation ac...| services and pro...|        1|\n",
      "|         of projects| services and pro...|        1|\n",
      "| new instrumentation| sale or distribu...|        2|\n",
      "| collaboratively and| sale or distribu...|        1|\n",
      "|  opportunities with|http://www.invesc...|        1|\n",
      "|       project needs|Engineering & Con...|        1|\n",
      "|     next generation|http://www.invesc...|        3|\n",
      "|       data curation|Application Software|        1|\n",
      "|       breaking down| sale or distribu...|        1|\n",
      "|            research| sale or distribu...|        1|\n",
      "|        will support|  Drug Manufacturers|        2|\n",
      "|deliverables supp...|  Drug Manufacturers|        1|\n",
      "|         of position| sale or distribu...|        1|\n",
      "|       in cambridge,|  Drug Manufacturers|        4|\n",
      "|               in an|  Drug Manufacturers|        1|\n",
      "|         of research|       Biotechnology|        6|\n",
      "|     equipment needs|       Biotechnology|        1|\n",
      "|learning opportun...|       Biotechnology|        1|\n",
      "|         in relevant|       Biotechnology|        1|\n",
      "|       clearly. must|       Biotechnology|        1|\n",
      "+--------------------+--------------------+---------+\n",
      "only showing top 20 rows\n",
      "\n"
     ]
    }
   ],
   "source": [
    "dt2.show()"
   ]
  },
  {
   "cell_type": "code",
   "execution_count": 124,
   "metadata": {},
   "outputs": [
    {
     "data": {
      "text/plain": [
       "DataFrame[ngram: string, industry: string, frequency: bigint]"
      ]
     },
     "execution_count": 124,
     "metadata": {},
     "output_type": "execute_result"
    }
   ],
   "source": [
    "x= new_jobs.select(\n",
    "'industry', \n",
    "F.explode('ngram').alias('ngram')\n",
    ").groupby(['ngram', 'industry']).count()\n",
    "\n",
    "x = x.withColumnRenamed('count', 'frequency')\n",
    "x.orderBy(x.frequency.desc())"
   ]
  },
  {
   "cell_type": "code",
   "execution_count": 125,
   "metadata": {},
   "outputs": [
    {
     "name": "stdout",
     "output_type": "stream",
     "text": [
      "+--------------------+--------------------+---------+\n",
      "|               ngram|            industry|frequency|\n",
      "+--------------------+--------------------+---------+\n",
      "|implementation ac...| services and pro...|        1|\n",
      "|         of projects| services and pro...|        1|\n",
      "| new instrumentation| sale or distribu...|        2|\n",
      "| collaboratively and| sale or distribu...|        1|\n",
      "|  opportunities with|http://www.invesc...|        1|\n",
      "|       project needs|Engineering & Con...|        1|\n",
      "|     next generation|http://www.invesc...|        3|\n",
      "|       data curation|Application Software|        1|\n",
      "|       breaking down| sale or distribu...|        1|\n",
      "|            research| sale or distribu...|        1|\n",
      "|        will support|  Drug Manufacturers|        2|\n",
      "|deliverables supp...|  Drug Manufacturers|        1|\n",
      "|         of position| sale or distribu...|        1|\n",
      "|       in cambridge,|  Drug Manufacturers|        4|\n",
      "|               in an|  Drug Manufacturers|        1|\n",
      "|         of research|       Biotechnology|        6|\n",
      "|     equipment needs|       Biotechnology|        1|\n",
      "|learning opportun...|       Biotechnology|        1|\n",
      "|         in relevant|       Biotechnology|        1|\n",
      "|       clearly. must|       Biotechnology|        1|\n",
      "+--------------------+--------------------+---------+\n",
      "only showing top 20 rows\n",
      "\n"
     ]
    }
   ],
   "source": [
    "x.show()"
   ]
  },
  {
   "cell_type": "code",
   "execution_count": null,
   "metadata": {},
   "outputs": [],
   "source": [
    "new_jobs"
   ]
  },
  {
   "cell_type": "code",
   "execution_count": 77,
   "metadata": {
    "scrolled": true
   },
   "outputs": [
    {
     "name": "stdout",
     "output_type": "stream",
     "text": [
      "+---------------+--------------------+---------+\n",
      "|          ngram|                city|frequency|\n",
      "+---------------+--------------------+---------+\n",
      "|          novel| gene expression ...|        2|\n",
      "|        limited|            military|        6|\n",
      "|      involving|                null|        4|\n",
      "|        level).|                null|        1|\n",
      "|         online|                null|        1|\n",
      "|           some|                null|        3|\n",
      "|    performance|           Cambridge|        2|\n",
      "|       guidance|           Cambridge|        1|\n",
      "|       projects| marketing and bu...|        1|\n",
      "|      antibody,|                null|        1|\n",
      "|     pipelines,|                null|        1|\n",
      "|          cures|                null|        2|\n",
      "|       amazon’s| globally. You wi...|        1|\n",
      "|       meetings| data prioritizat...|        1|\n",
      "|         travel|                null|        2|\n",
      "|        elevate|                null|        1|\n",
      "|      standards|                null|        1|\n",
      "|            125|                null|        3|\n",
      "|pharmaceuticals|                null|        3|\n",
      "|       positive|                null|        2|\n",
      "+---------------+--------------------+---------+\n",
      "only showing top 20 rows\n",
      "\n"
     ]
    }
   ],
   "source": [
    "#Passing unigram\n",
    "dt3= data_frequency(new_jobs2, 'city')\n",
    "dt3.show()"
   ]
  },
  {
   "cell_type": "code",
   "execution_count": 78,
   "metadata": {
    "scrolled": true
   },
   "outputs": [
    {
     "name": "stdout",
     "output_type": "stream",
     "text": [
      "+---------------+--------------------+---------+\n",
      "|          ngram|            location|frequency|\n",
      "+---------------+--------------------+---------+\n",
      "|          novel| gene expression ...|        2|\n",
      "|        limited|            military|        6|\n",
      "|      involving|                null|        4|\n",
      "|        level).|                null|        1|\n",
      "|         online|                null|        1|\n",
      "|           some|                null|        3|\n",
      "|       systems,|       Cambridge, MA|        1|\n",
      "|           safe|       Cambridge, MA|        1|\n",
      "|       projects| marketing and bu...|        1|\n",
      "|      antibody,|                null|        1|\n",
      "|     pipelines,|                null|        1|\n",
      "|          cures|                null|        2|\n",
      "|       amazon’s| globally. You wi...|        1|\n",
      "|       meetings| data prioritizat...|        1|\n",
      "|         travel|                null|        2|\n",
      "|        elevate|                null|        1|\n",
      "|      standards|                null|        1|\n",
      "|            125|                null|        3|\n",
      "|pharmaceuticals|                null|        3|\n",
      "|       positive|                null|        2|\n",
      "+---------------+--------------------+---------+\n",
      "only showing top 20 rows\n",
      "\n"
     ]
    }
   ],
   "source": [
    "dt4= data_frequency(new_jobs2, 'location')\n",
    "dt4.show()"
   ]
  }
 ],
 "metadata": {
  "kernelspec": {
   "display_name": "Python 3",
   "language": "python",
   "name": "python3"
  },
  "language_info": {
   "codemirror_mode": {
    "name": "ipython",
    "version": 3
   },
   "file_extension": ".py",
   "mimetype": "text/x-python",
   "name": "python",
   "nbconvert_exporter": "python",
   "pygments_lexer": "ipython3",
   "version": "3.7.4"
  }
 },
 "nbformat": 4,
 "nbformat_minor": 2
}
